{
 "cells": [
  {
   "cell_type": "code",
   "execution_count": null,
   "metadata": {},
   "outputs": [],
   "source": [
    "import pandas as pd\n",
    "from pathlib import Path"
   ]
  },
  {
   "cell_type": "code",
   "execution_count": null,
   "metadata": {},
   "outputs": [],
   "source": [
    "def visualize_row(row):\n",
    "    \"\"\"\n",
    "    Visualize the row data.\n",
    "    You can customize this function to show relevant details.\n",
    "    \"\"\"\n",
    "    print(f\"### This is a real test sample from the {row['dataset']} dataset ###\")\n",
    "    print(\"Text:\", '\\n'.join([row['text'][i:i+150] for i in range(0, len(row['text']), 150)]))\n",
    "    print(f\"Reference label: {row['reference']}\")\n",
    "    print(f\"Predicted label: {row['prediction']}\")\n",
    "    print(\"\\n\\n### The following is the most similar synthetic sample we selected (BM25) ###\")\n",
    "    print(\"Text:\", '\\n'.join([row['most_similar_synthetic_text'][i:i+150] for i in range(0, len(row['most_similar_synthetic_text']), 150)]))\n",
    "    print(f\"Reference label: {row['most_similar_synthetic_label']}\")\n",
    "    print(f\"Real-Synthetic similarity: {row['most_similar_synthetic_score']}\")"
   ]
  },
  {
   "cell_type": "markdown",
   "metadata": {},
   "source": [
    "# Manual analysis"
   ]
  },
  {
   "cell_type": "code",
   "execution_count": null,
   "metadata": {},
   "outputs": [],
   "source": [
    "pred_path = Path(\"../error_predictions\")\n",
    "datasets = []\n",
    "\n",
    "for fname in pred_path.rglob(\"*.tsv\"):\n",
    "    task_name = fname.as_posix().split(\"/\")[2]\n",
    "    df = pd.read_csv(fname, delimiter=\"\\t\")\n",
    "    df[\"dataset\"] = [task_name] * len(df)\n",
    "    datasets.append(df)\n",
    "dataset = pd.concat(datasets)\n",
    "\n",
    "n_analysis = 50\n",
    "dataset = dataset.sample(n=n_analysis, replace=False)\n",
    "\n",
    "for index, row in dataset.iterrows():\n",
    "    clear_output(wait=True)\n",
    "    visualize_row(row)\n",
    "    input(\"Press Enter to continue...\")"
   ]
  }
 ],
 "metadata": {
  "kernelspec": {
   "display_name": "jgonzalez-datamaker",
   "language": "python",
   "name": "python3"
  },
  "language_info": {
   "codemirror_mode": {
    "name": "ipython",
    "version": 3
   },
   "file_extension": ".py",
   "mimetype": "text/x-python",
   "name": "python",
   "nbconvert_exporter": "python",
   "pygments_lexer": "ipython3",
   "version": "3.10.15"
  }
 },
 "nbformat": 4,
 "nbformat_minor": 2
}
